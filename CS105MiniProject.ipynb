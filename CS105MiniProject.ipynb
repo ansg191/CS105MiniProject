{
 "cells": [
  {
   "cell_type": "markdown",
   "source": [
    "<div>\n",
    "    <h1><center>CS105 Mini-Project</center></h1>\n",
    "    <h2><center>Does who a student is living with effect if and how they work jobs?</center></h2>\n",
    "    <p>By: <b>NAMES HERE</b></p>\n",
    "</div>"
   ],
   "metadata": {
    "collapsed": false
   },
   "id": "5b6bc613018ea1b9"
  },
  {
   "cell_type": "markdown",
   "source": [
    "# Data Loading & Preprocessing"
   ],
   "metadata": {
    "collapsed": false
   },
   "id": "5afe71e96a60e3c"
  },
  {
   "cell_type": "code",
   "outputs": [],
   "source": [
    "%matplotlib inline\n",
    "import pandas as pd\n",
    "import numpy as np\n",
    "\n",
    "# Load dataframe from data.csv\n",
    "df = pd.read_csv(\"data.csv\")\n",
    "\n",
    "# Select relevant columns\n",
    "df = df.iloc[:, [0, 2, 7, 8, 9, 58, 59, 60, 61, 26]]\n",
    "df"
   ],
   "metadata": {
    "collapsed": false
   },
   "id": "b8160cf6c5e39630"
  },
  {
   "cell_type": "markdown",
   "source": [
    "## Preprocessing"
   ],
   "metadata": {
    "collapsed": false
   },
   "id": "cf8b63906d5bdb1"
  },
  {
   "cell_type": "code",
   "outputs": [],
   "source": [
    "# Fixes empty values\n",
    "df['Do you currently work?'] = df['Do you currently work?'].fillna('No')\n",
    "\n",
    "# Replaces custom text answers with appropriate values\n",
    "df['How many people live in your household?'] = (df['How many people live in your household?']\n",
    "                                                 .fillna(0)\n",
    "                                                 .replace('4 in total', '4')\n",
    "                                                 .replace('4 (Including me)', '4')\n",
    "                                                 .replace('at school 4 including me ', '4')\n",
    "                                                 .replace('3 excluding me', '4')\n",
    "                                                 .replace('5 including me', '5')\n",
    "                                                 .replace('North District 4 bed 2 bath', '4')\n",
    "                                                 .replace('3 (room), 8 (hall), ~70 (building)', '3')\n",
    "                                                 .astype(int))\n",
    "df['Who do you live with? '] = df['Who do you live with? '].replace('Family, Friends', 'Both').replace('Family, Friends, Both', 'Both')\n",
    "# Normalizes non-applicable answers\n",
    "df.loc[df['Do you currently work?'] == 'No', 'How many hours do you work per week on average?'] = 0\n",
    "df.loc[df['Do you currently work?'] == 'No', 'Do you work in a department related to your major?'] = np.nan\n",
    "\n",
    "df"
   ],
   "metadata": {
    "collapsed": false
   },
   "id": "3bbe0b2bdb2b5913"
  },
  {
   "cell_type": "code",
   "outputs": [],
   "source": [
    "# Working DataFrame\n",
    "w_df = df[df['Do you currently work?'] == 'Yes']\n",
    "# Not working DataFrame\n",
    "nw_df = df[df['Do you currently work?'] == 'No']\n",
    "#w_df"
   ],
   "metadata": {
    "collapsed": false
   },
   "id": "409e013cc64b94f8"
  },
  {
   "cell_type": "code",
   "outputs": [],
   "source": [
    "nw_df"
   ],
   "metadata": {
    "collapsed": false
   },
   "id": "270ef7c19a51f12d"
  },
  {
   "cell_type": "markdown",
   "source": [
    "# Analysis"
   ],
   "metadata": {
    "collapsed": false
   },
   "id": "7a190ade9fba3b2e"
  },
  {
   "cell_type": "code",
   "outputs": [],
   "source": [
    "import matplotlib.pyplot as plt"
   ],
   "metadata": {
    "collapsed": false
   },
   "id": "a2ba98c4b5e79d33"
  },
  {
   "cell_type": "code",
   "outputs": [],
   "source": [
    "# Count the number of people who work and don't work\n",
    "work_counts = df['Do you currently work?'].value_counts()\n",
    "\n",
    "# Plotting a pie chart\n",
    "plt.figure(figsize=(8, 8))\n",
    "plt.pie(work_counts, labels=work_counts.index, autopct='%1.1f%%', startangle=90, colors=['lightblue', 'lightcoral'])\n",
    "plt.title('Distribution of People Who Work and Don\\'t Work')\n",
    "plt.show()"
   ],
   "metadata": {
    "collapsed": false
   },
   "id": "779903e399bc2e3e"
  },
  {
   "cell_type": "code",
   "outputs": [],
   "source": [],
   "metadata": {
    "collapsed": false
   },
   "id": "ea07afb6c0152635"
  },
  {
   "cell_type": "markdown",
   "source": [],
   "metadata": {
    "collapsed": false
   },
   "id": "77494969851a5ea1"
  }
 ],
 "metadata": {
  "colab": {
   "provenance": []
  },
  "kernelspec": {
   "display_name": "Python 3 (ipykernel)",
   "language": "python",
   "name": "python3"
  },
  "language_info": {
   "codemirror_mode": {
    "name": "ipython",
    "version": 3
   },
   "file_extension": ".py",
   "mimetype": "text/x-python",
   "name": "python",
   "nbconvert_exporter": "python",
   "pygments_lexer": "ipython3",
   "version": "3.11.5"
  }
 },
 "nbformat": 4,
 "nbformat_minor": 5
}
